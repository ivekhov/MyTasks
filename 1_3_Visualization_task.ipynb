{
 "cells": [
  {
   "cell_type": "code",
   "execution_count": null,
   "metadata": {
    "collapsed": true
   },
   "outputs": [],
   "source": [
    "# importing modules and NAN deleting\n",
    "import pandas as pd\n",
    "import warnings\n",
    "warnings.simplefilter('ignore')\n",
    "%pylab inline\n",
    "%config InlineBackend.figure_format = 'svg'\n",
    "from pylab import rcParams\n",
    "rcParams['figure.figsize'] = 8, 5\n",
    "df = pd.read_csv(\"movie_metadata.csv\")\n",
    "df = df.dropna()\n",
    "\n",
    "#df.info()\n",
    "#df.head()\n",
    "#df.describe()"
   ]
  },
  {
   "cell_type": "code",
   "execution_count": null,
   "metadata": {
    "collapsed": true
   },
   "outputs": [],
   "source": [
    "scores = df.imdb_score.hist(bins=15)\n",
    "scores.set_title('Scores distribution')\n",
    "scores.set_xlabel('IMDB Score')\n",
    "scores.set_ylabel('Movies')"
   ]
  },
  {
   "cell_type": "markdown",
   "metadata": {},
   "source": [
    "В визуализации участвует переменная imdb_score (\"оценка фильма\") вещественного типа. Цель визуализации - оценить тип распределения оценок в выборке фильмов. Была выбрана гистограмма, которая является распространенным типом графика для анализа распределения величин. На графике видно, что распределение является нормальным.\n"
   ]
  },
  {
   "cell_type": "code",
   "execution_count": null,
   "metadata": {
    "collapsed": true
   },
   "outputs": [],
   "source": [
    "top_data = df.loc[:, ['movie_title', 'imdb_score']]\n",
    "top_data = top_data.sort_values('imdb_score', ascending=False).head(10)\n",
    "top_data.style.bar()"
   ]
  },
  {
   "cell_type": "code",
   "execution_count": null,
   "metadata": {
    "collapsed": true
   },
   "outputs": [],
   "source": [
    "Здесь было просто интересно посмотреть на топ-10 фильмов по оценкам (imdb_score)"
   ]
  },
  {
   "cell_type": "code",
   "execution_count": null,
   "metadata": {
    "collapsed": true
   },
   "outputs": [],
   "source": [
    "import seaborn as sns\n",
    "%config InlineBackend.figure_format = 'png'"
   ]
  },
  {
   "cell_type": "code",
   "execution_count": null,
   "metadata": {
    "collapsed": true
   },
   "outputs": [],
   "source": [
    "sns.jointplot(y='gross', x='budget', data=df[df.country == 'USA'], kind='scatter')"
   ]
  },
  {
   "cell_type": "markdown",
   "metadata": {},
   "source": [
    "В визуализации используются переменные вещественного типа budget (бюджет фильма) и gross (кассовые сборы). Цель - определить степень влияния бюджета фильма на последующие кассовые сборы. Scatter plot (диаграмма рассеивания) в сочетании с гистограммой является классическим способом визуального анализа корреляции двух переменных. При этом, автор набора данных пишет, что денежные единицы использовались национальные, а не единая. Поэтому для графика были отобраны только фильмы, произведенные в США. Коэффициент корреляции значимо положительный, что говорит о статистической взаимосвязи переменных. "
   ]
  },
  {
   "cell_type": "code",
   "execution_count": null,
   "metadata": {
    "collapsed": true
   },
   "outputs": [],
   "source": [
    "sns.plot = sns.pairplot( df[['gross', 'imdb_score', 'movie_facebook_likes', 'cast_total_facebook_likes', \n",
    "                             'actor_1_facebook_likes']] )"
   ]
  },
  {
   "cell_type": "markdown",
   "metadata": {},
   "source": [
    "В визуализации использовались переменные вещественного типа: gross, imdb_score, movie_facebook_likes, cast_total_facebook_likes, actor_1_facebook_likes. Цель - оперативно выявить наличие взаимных корреляций между набором переменных, что лучше всего решается с помощью pairplot. Интересно было проверить, во-первых, взаимосвязь между gross (кассовые сборы фильма) и imdb_score (рейтингом фильма), и во-вторых, - между лайками на FB и рейтингом фильма. В обоих случаях наблюдается слабая положительная корреляция: 1) между сборами и рейтингом, 2) между количеством лайков фильма и его рейтингом. Влияние количества лайков первого актера фильма на общее количество лайков практически линейное, что говорит о том, что лайки первого актера составляют основную часть лайков фильма.\n"
   ]
  },
  {
   "cell_type": "code",
   "execution_count": null,
   "metadata": {
    "collapsed": true
   },
   "outputs": [],
   "source": [
    "import ggplot"
   ]
  },
  {
   "cell_type": "code",
   "execution_count": null,
   "metadata": {
    "collapsed": true
   },
   "outputs": [],
   "source": [
    "p = ggplot.ggplot(ggplot.aes(x='title_year', y = 'imdb_score'), \n",
    "           data = df.groupby(['title_year'], as_index = False)[['imdb_score']].mean())\\\n",
    "    + ggplot.geom_area()\\\n",
    "    + ggplot.ggtitle(\"Average score of movies by Years\")\\\n",
    "    + ggplot.xlab(\"Years\")\\\n",
    "    + ggplot.ylab(\"Score\")\\\n",
    "    + ggplot.theme_xkcd()\n",
    "    \n",
    "print(p);"
   ]
  },
  {
   "cell_type": "markdown",
   "metadata": {},
   "source": [
    "В визуализации использовалась переменная вещественного типа imdb_score (рейтинг фильма) в распределении по годам производства кинокартин. Показатель усреднялся за анализируемый год. Цель - определить, имеют ли фильмы, снятые давно более высокий или низкий рейтинг по сравнению с теми, что были снятые в последние 20 лет. Для отображения был выбран график \"область в динамике\", подходящий для визуализации временных рядов. На графике видно, что в среднем фильмы до 90-х имеют более высокий рейтинг, чем после. В дополнение отмечаются колебания показателя ввиду небольшого количества фильмов, попавших в оценку из этого периода; а также вследствие мЕньшего числа голосовавших и оценивавших старые фильмы по сравнению с относительно недавними. "
   ]
  },
  {
   "cell_type": "code",
   "execution_count": null,
   "metadata": {
    "collapsed": true
   },
   "outputs": [],
   "source": [
    "from plotly.offline import init_notebook_mode, iplot\n",
    "import plotly\n",
    "import plotly.graph_objs as go\n",
    "init_notebook_mode(connected=True)"
   ]
  },
  {
   "cell_type": "code",
   "execution_count": null,
   "metadata": {
    "collapsed": true
   },
   "outputs": [],
   "source": [
    "years_df = df.groupby('title_year')[['num_critic_for_reviews']].sum().join(\n",
    "    df.groupby('title_year')[['num_user_for_reviews']].sum()\n",
    ")\n",
    "years_df.columns = ['num_critic_for_reviews', 'num_user_for_reviews']"
   ]
  },
  {
   "cell_type": "code",
   "execution_count": null,
   "metadata": {
    "collapsed": true
   },
   "outputs": [],
   "source": [
    "trace0 = go.Scatter(\n",
    "    x=years_df.index,\n",
    "    y=years_df.num_critic_for_reviews,\n",
    "#    mode='lines',\n",
    "    line = dict(\n",
    "        color = ('rgb(22, 96, 167)'),\n",
    "        width = 4),\n",
    "    name='Critics'\n",
    ")\n",
    "\n",
    "trace1 = go.Scatter(\n",
    "    x=years_df.index,\n",
    "    y=years_df.num_user_for_reviews,\n",
    "#    mode='markers',\n",
    "    line = dict(\n",
    "        color = ('rgb(205, 12, 24)'),\n",
    "        width = 4),\n",
    "    name='Users'\n",
    ")\n",
    "\n",
    "data = [trace0, trace1]\n",
    "layout = {'title': 'What films were estimated by critics and what by users?'}\n",
    "\n",
    "fig = go.Figure(data=data, layout=layout)\n",
    "\n",
    "iplot(fig, show_link=False)"
   ]
  },
  {
   "cell_type": "markdown",
   "metadata": {},
   "source": [
    "В визуализации используются агрегированные по годам вещественные переменные num_critic_for_reviews, num_user_for_reviews. Цель - сравнить степень интереса двух групп (критиков и пользователей) к фильмам разных лет с помощью показателя количества активных рецензентов. Был выбран график линии, т.к. в данных есть хронологическая последовательность. Тем не менее, график линий для данного случай не является лучшим и возможно использование гистограммы. На графике видно, что больше всего пользовательских рецензий приходится на фильмы с 200 по 2007 года. Тогда как у критиков выходит больше рецезий на фильмы последних нескольких лет.\n"
   ]
  }
 ],
 "metadata": {
  "kernelspec": {
   "display_name": "Python 3",
   "language": "python",
   "name": "python3"
  },
  "language_info": {
   "codemirror_mode": {
    "name": "ipython",
    "version": 3
   },
   "file_extension": ".py",
   "mimetype": "text/x-python",
   "name": "python",
   "nbconvert_exporter": "python",
   "pygments_lexer": "ipython3",
   "version": "3.6.1"
  }
 },
 "nbformat": 4,
 "nbformat_minor": 2
}
