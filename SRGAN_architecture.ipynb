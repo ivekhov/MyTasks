{
 "cells": [
  {
   "cell_type": "raw",
   "metadata": {},
   "source": [
    "Generator:\n",
    "\n",
    "Блок ввода данных # ToDo Прописать\n",
    "\n",
    "Conv2D (kernel 9x9, 64 feature maps, stride=1)\n",
    "Parametric ReLU\n",
    "\n",
    "# 16 блоков Residual Blocks # ToDo  Как настроить связь блоков с другими элементами сети?\n",
    "Residual Blocks N=16: \n",
    "\tConv2D (kernel 3x3, 64 feature maps, stride=1)\n",
    "\tBatchNormalization\n",
    "\tParametric ReLU\n",
    "\tConv2D (kernel 3x3, 64 feature maps, stride=1)\n",
    "\tBatchNormalization\n",
    "\tParametric ReLU\n",
    "\n",
    "Conv2D (kernel 3x3, 64 feature maps, stride=1)\n",
    "BatchNormalization\t\n",
    "Elementwise Sum  \t#? ToDo\t \n",
    "\n",
    "Conv2D (kernel 3x3, 256 feature maps, stride=1)\n",
    "PixelShuffler x2\t#? ToDo\n",
    "Parametric ReLU\n",
    "\n",
    "Conv2D (kernel 3x3, 256 feature maps, stride=1)\n",
    "PixelShuffler x2\t#? ToDo\n",
    "Parametric ReLU\n",
    "\n",
    "Conv2D (kernel 9x9, 3 feature maps, stride=1)\n"
   ]
  },
  {
   "cell_type": "raw",
   "metadata": {},
   "source": [
    "Discriminator\n",
    "\n",
    "Блок ввода данных # ToDo : Прописать\n",
    "\n",
    "# 8 слоев\n",
    "Conv2D (kernel 3x3, 64 feature maps, stride=1)\n",
    "Leaky ReLU\n",
    "\n",
    "Conv2D (kernel 3x3, 64 feature maps, stride=2)\n",
    "BatchNormalization\n",
    "Leaky ReLU\n",
    "\n",
    "Conv2D (kernel 3x3, 128 feature maps, stride=1)\n",
    "BatchNormalization\n",
    "Leaky ReLU\n",
    "\n",
    "Conv2D (kernel 3x3, 128 feature maps, stride=2)\n",
    "BatchNormalization\n",
    "Leaky ReLU\n",
    "\n",
    "Conv2D (kernel 3x3, 256 feature maps, stride=1)\n",
    "BatchNormalization\n",
    "Leaky ReLU\n",
    "\n",
    "Conv2D (kernel 3x3, 256 feature maps, stride=2)\n",
    "BatchNormalization\n",
    "Leaky ReLU\n",
    "\n",
    "Conv2D (kernel 3x3, 512 feature maps, stride=1)\n",
    "BatchNormalization\n",
    "Leaky ReLU\n",
    "\n",
    "Conv2D (kernel 3x3, 512 feature maps, stride=2)\n",
    "BatchNormalization\n",
    "Leaky ReLU\n",
    "\n",
    "\n",
    "Dense (1024)\n",
    "LeakyReLU\n",
    "Dense(1)\n",
    "Sigmoid\n"
   ]
  },
  {
   "cell_type": "raw",
   "metadata": {},
   "source": [
    "# В Train set идут пары фотографий: грязные и отретушированные \n",
    "# "
   ]
  },
  {
   "cell_type": "code",
   "execution_count": null,
   "metadata": {
    "collapsed": true
   },
   "outputs": [],
   "source": []
  }
 ],
 "metadata": {
  "kernelspec": {
   "display_name": "Python 3",
   "language": "python",
   "name": "python3"
  },
  "language_info": {
   "codemirror_mode": {
    "name": "ipython",
    "version": 3
   },
   "file_extension": ".py",
   "mimetype": "text/x-python",
   "name": "python",
   "nbconvert_exporter": "python",
   "pygments_lexer": "ipython3",
   "version": "3.6.1"
  }
 },
 "nbformat": 4,
 "nbformat_minor": 2
}
