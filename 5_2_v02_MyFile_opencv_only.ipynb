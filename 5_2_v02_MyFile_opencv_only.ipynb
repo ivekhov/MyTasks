{
 "cells": [
  {
   "cell_type": "code",
   "execution_count": 1,
   "metadata": {
    "collapsed": true
   },
   "outputs": [],
   "source": [
    "%matplotlib inline\n",
    "import cv2\n",
    "import numpy as np\n",
    "import matplotlib.pyplot as plt"
   ]
  },
  {
   "cell_type": "code",
   "execution_count": 2,
   "metadata": {
    "collapsed": true
   },
   "outputs": [],
   "source": [
    "train = np.loadtxt('train.csv', delimiter=',', skiprows=1)\n",
    "test = np.loadtxt('test.csv', delimiter=',', skiprows=1)"
   ]
  },
  {
   "cell_type": "code",
   "execution_count": 3,
   "metadata": {
    "collapsed": true
   },
   "outputs": [],
   "source": [
    "# сохраняем разметку в отдельную переменную\n",
    "train_label = train[:, 0]\n",
    "# приводим размерность к удобному для обаботки виду\n",
    "train_img = np.resize(train[:, 1:], (train.shape[0], 28, 28))\n",
    "test_img = np.resize(test, (test.shape[0], 28, 28))"
   ]
  },
  {
   "cell_type": "raw",
   "metadata": {},
   "source": [
    "Порядок решения\n",
    "\n",
    "Если вычислять с делением от самого начала\n",
    "1. Делим области на 4 части\n",
    "    2. Вычисляем составляющие градиента для каждой области\n",
    "    3. Угол и длина вектора градиента для каждой области\n",
    "    4. Вычисляем гистограмму градиента для каждой области\n",
    "5. Стыковка данных всех областей в один ммассив\n",
    "6. Нормирование данных"
   ]
  },
  {
   "cell_type": "code",
   "execution_count": 7,
   "metadata": {
    "collapsed": true
   },
   "outputs": [],
   "source": [
    "#Train\n",
    "#1\n",
    "chunks =  [train_img[:, :14, :14], train_img[:, 14:, :14], train_img[:, :14, 14:], train_img[:, 14:, 14:]]"
   ]
  },
  {
   "cell_type": "code",
   "execution_count": 10,
   "metadata": {},
   "outputs": [],
   "source": [
    "#2\n",
    "chunks_final = np.zeros((len(train_img), 1))\n",
    "\n",
    "for i in range(len(chunks)):\n",
    "    chunks_sobel_x = np.zeros_like(chunks[i] )\n",
    "    chunks_sobel_y = np.zeros_like(chunks[i] )\n",
    "    for m in range(len(chunks[i])):\n",
    "        chunks_sobel_x[m] = cv2.Sobel(chunks[i][m], cv2.CV_64F, dx=1, dy=0, ksize=3)\n",
    "        chunks_sobel_y[m] = cv2.Sobel(chunks[i][m], cv2.CV_64F, dx=0, dy=1, ksize=3)\n",
    "    chunks_g, chunks_theta = cv2.cartToPolar(chunks_sobel_x, chunks_sobel_y)      #3\n",
    "    \n",
    "    chunks_hist = np.zeros((len(chunks[i]), 16))   #4\n",
    "    for x in range(len(chunks[i])):\n",
    "        hist, borders = np.histogram(chunks_theta[x],\n",
    "                                     bins=16,\n",
    "                                     range=(0., 2. * np.pi),\n",
    "                                     weights=chunks_g[x])\n",
    "        chunks_hist[x] = hist\n",
    "    chunks_final = np.hstack((chunks_final, chunks_hist))\n",
    "\n",
    "chunks_final = chunks_final[:, 1:] #5"
   ]
  },
  {
   "cell_type": "code",
   "execution_count": 11,
   "metadata": {
    "collapsed": true
   },
   "outputs": [],
   "source": [
    "#Test\n",
    "#1\n",
    "chunks_tst =  [test_img[:, :14, :14], test_img[:, 14:, :14], test_img[:, :14, 14:], test_img[:, 14:, 14:]]"
   ]
  },
  {
   "cell_type": "code",
   "execution_count": 13,
   "metadata": {},
   "outputs": [],
   "source": [
    "#2\n",
    "chunks_final_tst = np.zeros((len(test_img), 1))\n",
    "\n",
    "for i in range(len(chunks_tst)):\n",
    "    chunks_sobel_x = np.zeros_like(chunks_tst[i] )\n",
    "    chunks_sobel_y = np.zeros_like(chunks_tst[i] )\n",
    "    for m in range(len(chunks_tst[i])):\n",
    "        chunks_sobel_x[m] = cv2.Sobel(chunks_tst[i][m], cv2.CV_64F, dx=1, dy=0, ksize=3)\n",
    "        chunks_sobel_y[m] = cv2.Sobel(chunks_tst[i][m], cv2.CV_64F, dx=0, dy=1, ksize=3)\n",
    "    chunks_g, chunks_theta = cv2.cartToPolar(chunks_sobel_x, chunks_sobel_y)      #3\n",
    "    \n",
    "    chunks_hist = np.zeros((len(chunks_tst[i]), 16))\n",
    "    for x in range(len(chunks_tst[i])):\n",
    "        hist, borders = np.histogram(chunks_theta[x],\n",
    "                                     bins=16,\n",
    "                                     range=(0., 2. * np.pi),\n",
    "                                     weights=chunks_g[x])\n",
    "        chunks_hist[x] = hist\n",
    "    chunks_final_tst = np.hstack((chunks_final_tst, chunks_hist))\n",
    "\n",
    "chunks_final_tst = chunks_final_tst[:, 1:]"
   ]
  },
  {
   "cell_type": "code",
   "execution_count": 14,
   "metadata": {
    "collapsed": true
   },
   "outputs": [],
   "source": [
    "# нормализация методом из opencv\n",
    "train_zero = np.zeros((42000, 64))\n",
    "train_norm = cv2.normalize(chunks_final, train_zero)\n",
    "test_norm = cv2.normalize(chunks_final_tst, train_zero)"
   ]
  },
  {
   "cell_type": "markdown",
   "metadata": {},
   "source": [
    "## Разбиваем выборку на обучение и валидацию"
   ]
  },
  {
   "cell_type": "code",
   "execution_count": 15,
   "metadata": {
    "collapsed": true
   },
   "outputs": [],
   "source": [
    "from sklearn.model_selection import train_test_split\n",
    "y_train, y_val, x_train, x_val = train_test_split(\n",
    "    train_label, train_norm, test_size=0.2, random_state=42)"
   ]
  },
  {
   "cell_type": "markdown",
   "metadata": {},
   "source": [
    "## Вычисляем центроиды каждого из 10 классов"
   ]
  },
  {
   "cell_type": "code",
   "execution_count": 16,
   "metadata": {
    "collapsed": true
   },
   "outputs": [],
   "source": [
    "centroids = np.zeros((10, train_norm.shape[1]), dtype=np.float32)"
   ]
  },
  {
   "cell_type": "code",
   "execution_count": 17,
   "metadata": {
    "collapsed": true
   },
   "outputs": [],
   "source": [
    "for i in range(10):\n",
    "    centroids[i] = np.mean(x_train[y_train == i], axis=0)"
   ]
  },
  {
   "cell_type": "markdown",
   "metadata": {},
   "source": [
    "## Находим ближайший центройд для валидации"
   ]
  },
  {
   "cell_type": "code",
   "execution_count": 18,
   "metadata": {
    "collapsed": true
   },
   "outputs": [],
   "source": [
    "pred_val = np.zeros_like(y_val)\n",
    "for i in range(len(y_val)):\n",
    "    distances = np.linalg.norm(centroids - x_val[i], axis=1)\n",
    "    pred_val[i] = np.argmin(distances)"
   ]
  },
  {
   "cell_type": "markdown",
   "metadata": {},
   "source": [
    "## Оцениваем качество решение на валидационной выборке"
   ]
  },
  {
   "cell_type": "code",
   "execution_count": 19,
   "metadata": {},
   "outputs": [
    {
     "name": "stdout",
     "output_type": "stream",
     "text": [
      "Accuracy: 0.836785714286\n"
     ]
    }
   ],
   "source": [
    "from sklearn.metrics import accuracy_score\n",
    "print('Accuracy: %s' % accuracy_score(y_val, pred_val))"
   ]
  },
  {
   "cell_type": "code",
   "execution_count": 20,
   "metadata": {},
   "outputs": [
    {
     "name": "stdout",
     "output_type": "stream",
     "text": [
      "             precision    recall  f1-score   support\n",
      "\n",
      "        0.0       0.93      0.91      0.92       816\n",
      "        1.0       0.88      0.99      0.93       909\n",
      "        2.0       0.86      0.85      0.86       846\n",
      "        3.0       0.81      0.81      0.81       937\n",
      "        4.0       0.95      0.79      0.86       839\n",
      "        5.0       0.89      0.85      0.87       702\n",
      "        6.0       0.86      0.89      0.87       785\n",
      "        7.0       0.91      0.73      0.81       893\n",
      "        8.0       0.66      0.79      0.72       835\n",
      "        9.0       0.72      0.77      0.74       838\n",
      "\n",
      "avg / total       0.84      0.84      0.84      8400\n",
      "\n"
     ]
    }
   ],
   "source": [
    "from sklearn.metrics import classification_report\n",
    "print(classification_report(y_val, pred_val))"
   ]
  },
  {
   "cell_type": "code",
   "execution_count": 21,
   "metadata": {},
   "outputs": [
    {
     "name": "stdout",
     "output_type": "stream",
     "text": [
      "[[741   3  10  11   8   3  13   1  20   6]\n",
      " [  0 896   2   0   1   0   1   0   5   4]\n",
      " [  4  12 721  53   2   2   8   6  27  11]\n",
      " [  3   2  33 760   0  38   4  19  34  44]\n",
      " [  0  24   8   3 666   0  43   2  37  56]\n",
      " [  0   1   1  53   1 594  12   5  22  13]\n",
      " [ 21  16   1   0   3   3 699   0  42   0]\n",
      " [  1  30  36  21   1   0   1 649  64  90]\n",
      " [ 19  21  20  19   9  23  31   8 658  27]\n",
      " [ 11  17   4  21  10   7   3  27  93 645]]\n"
     ]
    }
   ],
   "source": [
    "from sklearn.metrics import confusion_matrix\n",
    "print(confusion_matrix(y_val, pred_val))"
   ]
  },
  {
   "cell_type": "markdown",
   "metadata": {},
   "source": [
    "## Предсказания на тестовых данных"
   ]
  },
  {
   "cell_type": "code",
   "execution_count": 22,
   "metadata": {
    "collapsed": true
   },
   "outputs": [],
   "source": [
    "pred_test = np.zeros(len(test_img), np.uint8)\n",
    "for i in range(len(test_img)):\n",
    "    distances = np.linalg.norm(centroids - test_norm[i], axis=1)\n",
    "    pred_test[i] = np.argmin(distances)"
   ]
  },
  {
   "cell_type": "markdown",
   "metadata": {},
   "source": [
    "## Визуализируем предсказания"
   ]
  },
  {
   "cell_type": "code",
   "execution_count": 23,
   "metadata": {},
   "outputs": [
    {
     "data": {
      "image/png": "[encoded data removed]",
      "text/plain": [
       "<matplotlib.figure.Figure at 0x23b0abc2be0>"
      ]
     },
     "metadata": {},
     "output_type": "display_data"
    }
   ],
   "source": [
    "fig = plt.figure(figsize=(20, 10))\n",
    "for i, img in enumerate(test_img[0:5], 1):\n",
    "    subplot = fig.add_subplot(1, 7, i)\n",
    "    plt.imshow(img, cmap='gray');\n",
    "    subplot.set_title('%s' % pred_test[i - 1]);"
   ]
  },
  {
   "cell_type": "markdown",
   "metadata": {},
   "source": [
    "## Готовим файл для отправки"
   ]
  },
  {
   "cell_type": "code",
   "execution_count": 24,
   "metadata": {
    "collapsed": true
   },
   "outputs": [],
   "source": [
    "with open('submit_5.txt', 'w') as dst:\n",
    "    dst.write('ImageId,Label\\n')\n",
    "    for i, p in enumerate(pred_test, 1):\n",
    "        dst.write('%s,%s\\n' % (i, p))"
   ]
  },
  {
   "cell_type": "markdown",
   "metadata": {},
   "source": [
    "оценка на kaggle: 0.8352"
   ]
  }
 ],
 "metadata": {
  "kernelspec": {
   "display_name": "Python 3",
   "language": "python",
   "name": "python3"
  },
  "language_info": {
   "codemirror_mode": {
    "name": "ipython",
    "version": 3
   },
   "file_extension": ".py",
   "mimetype": "text/x-python",
   "name": "python",
   "nbconvert_exporter": "python",
   "pygments_lexer": "ipython3",
   "version": "3.6.1"
  }
 },
 "nbformat": 4,
 "nbformat_minor": 2
}
