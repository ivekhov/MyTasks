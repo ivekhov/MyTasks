{
 "cells": [
  {
   "cell_type": "code",
   "execution_count": 1,
   "metadata": {
    "collapsed": true
   },
   "outputs": [],
   "source": [
    "import pandas as pd\n",
    "import sklearn\n",
    "import numpy as np\n",
    "import matplotlib.pyplot as plt\n",
    "%matplotlib inline\n",
    "from sklearn.linear_model import Ridge\n",
    "from sklearn.model_selection import GridSearchCV\n",
    "from sklearn.pipeline  import Pipeline\n",
    "from sklearn.linear_model import LogisticRegression\n",
    "from sklearn.model_selection import KFold\n",
    "from sklearn.model_selection import cross_val_score\n",
    "from sklearn.preprocessing import Imputer\n",
    "from sklearn.preprocessing import StandardScaler\n",
    "from sklearn.tree import DecisionTreeClassifier\n",
    "from sklearn import metrics\n",
    "from sklearn.model_selection import train_test_split\n"
   ]
  },
  {
   "cell_type": "code",
   "execution_count": 39,
   "metadata": {
    "collapsed": true
   },
   "outputs": [],
   "source": [
    "train = pd.read_csv('./titanic/train.csv')\n",
    "test = pd.read_csv('./titanic/test.csv')"
   ]
  },
  {
   "cell_type": "code",
   "execution_count": 40,
   "metadata": {
    "collapsed": true
   },
   "outputs": [],
   "source": [
    "train_dummies = pd.get_dummies(train, columns=['Sex', 'Pclass', 'Embarked'])\n",
    "test_dummies = pd.get_dummies(test, columns=['Sex', 'Pclass', 'Embarked'])"
   ]
  },
  {
   "cell_type": "code",
   "execution_count": 41,
   "metadata": {
    "collapsed": true
   },
   "outputs": [],
   "source": [
    "X_train = train_dummies.drop(['PassengerId', 'Survived', 'Name', 'Ticket', 'Cabin'], axis=1)\n",
    "X_test = test_dummies.drop(['PassengerId', 'Name', 'Ticket', 'Cabin'], axis=1)"
   ]
  },
  {
   "cell_type": "code",
   "execution_count": 5,
   "metadata": {
    "collapsed": true
   },
   "outputs": [],
   "source": [
    "y_train = train_dummies['Survived']"
   ]
  },
  {
   "cell_type": "code",
   "execution_count": 6,
   "metadata": {
    "collapsed": true
   },
   "outputs": [],
   "source": [
    "imputer = Imputer(missing_values='NaN', strategy='mean', axis=0, verbose=0, copy=True)\n",
    "X_train_fit = imputer.fit_transform(X_train)"
   ]
  },
  {
   "cell_type": "code",
   "execution_count": 7,
   "metadata": {
    "collapsed": true
   },
   "outputs": [],
   "source": [
    "scaler = StandardScaler(copy=True, with_mean=True, with_std=True)\n",
    "X_train_scaled = scaler.fit_transform(X_train_fit)"
   ]
  },
  {
   "cell_type": "code",
   "execution_count": 134,
   "metadata": {
    "collapsed": true
   },
   "outputs": [],
   "source": [
    "X_test_fit = imputer.fit_transform(X_test)"
   ]
  },
  {
   "cell_type": "code",
   "execution_count": 135,
   "metadata": {},
   "outputs": [],
   "source": [
    "\n",
    "X_test_scaled = scaler.fit_transform(X_test_fit)\n"
   ]
  },
  {
   "cell_type": "markdown",
   "metadata": {},
   "source": [
    "# Подбор параметров модели"
   ]
  },
  {
   "cell_type": "code",
   "execution_count": 8,
   "metadata": {
    "collapsed": true
   },
   "outputs": [],
   "source": [
    "kfold = KFold(n_splits=3, shuffle=True, random_state=145)"
   ]
  },
  {
   "cell_type": "code",
   "execution_count": 9,
   "metadata": {
    "collapsed": true
   },
   "outputs": [],
   "source": [
    "pipeline = Pipeline(steps=[ ('imputer', imputer),\n",
    "                            ('scale', scaler),\n",
    "                           ('model', DecisionTreeClassifier() )] )\n",
    "\n",
    "param_grid = {'model__max_depth': list(range(2, 5, 1)), \n",
    "              'model__min_samples_leaf' : list(range(1, 10, 1)), \n",
    "              'model__max_features': list(range(1, 10, 1)),\n",
    "              'model__criterion': ['gini', 'entropy'], \n",
    "             'model__min_samples_split' : list( range(2, 10, 1) )}\n",
    "\n",
    "grid = GridSearchCV(pipeline, param_grid, \n",
    "                    scoring='accuracy',\n",
    "                    cv=kfold)"
   ]
  },
  {
   "cell_type": "code",
   "execution_count": 10,
   "metadata": {},
   "outputs": [
    {
     "data": {
      "text/plain": [
       "GridSearchCV(cv=KFold(n_splits=3, random_state=145, shuffle=True),\n",
       "       error_score='raise',\n",
       "       estimator=Pipeline(steps=[('imputer', Imputer(axis=0, copy=True, missing_values='NaN', strategy='mean', verbose=0)), ('scale', StandardScaler(copy=True, with_mean=True, with_std=True)), ('model', DecisionTreeClassifier(class_weight=None, criterion='gini', max_depth=None,\n",
       "            max_features=Non...t=2, min_weight_fraction_leaf=0.0,\n",
       "            presort=False, random_state=None, splitter='best'))]),\n",
       "       fit_params={}, iid=True, n_jobs=1,\n",
       "       param_grid={'model__max_depth': [2, 3, 4], 'model__min_samples_leaf': [1, 2, 3, 4, 5, 6, 7, 8, 9], 'model__max_features': [1, 2, 3, 4, 5, 6, 7, 8, 9], 'model__criterion': ['gini', 'entropy'], 'model__min_samples_split': [2, 3, 4, 5, 6, 7, 8, 9]},\n",
       "       pre_dispatch='2*n_jobs', refit=True, return_train_score=True,\n",
       "       scoring='accuracy', verbose=0)"
      ]
     },
     "execution_count": 10,
     "metadata": {},
     "output_type": "execute_result"
    }
   ],
   "source": [
    "grid.fit(X_train_scaled, y_train)"
   ]
  },
  {
   "cell_type": "code",
   "execution_count": 11,
   "metadata": {},
   "outputs": [
    {
     "data": {
      "text/plain": [
       "{'model__criterion': 'gini',\n",
       " 'model__max_depth': 4,\n",
       " 'model__max_features': 6,\n",
       " 'model__min_samples_leaf': 4,\n",
       " 'model__min_samples_split': 9}"
      ]
     },
     "execution_count": 11,
     "metadata": {},
     "output_type": "execute_result"
    }
   ],
   "source": [
    "model = grid.fit(X_train_scaled, y_train)\n",
    "model.best_params_"
   ]
  },
  {
   "cell_type": "code",
   "execution_count": 12,
   "metadata": {},
   "outputs": [
    {
     "data": {
      "text/plain": [
       "0.82491582491582494"
      ]
     },
     "execution_count": 12,
     "metadata": {},
     "output_type": "execute_result"
    }
   ],
   "source": [
    "model.best_score_"
   ]
  },
  {
   "cell_type": "code",
   "execution_count": 13,
   "metadata": {
    "collapsed": true
   },
   "outputs": [],
   "source": [
    "scores = cross_val_score(model, X_train_scaled, y_train, cv = kfold, scoring='accuracy')"
   ]
  },
  {
   "cell_type": "code",
   "execution_count": 14,
   "metadata": {},
   "outputs": [
    {
     "data": {
      "text/plain": [
       "0.78900112233445563"
      ]
     },
     "execution_count": 14,
     "metadata": {},
     "output_type": "execute_result"
    }
   ],
   "source": [
    "np.average(scores)"
   ]
  },
  {
   "cell_type": "markdown",
   "metadata": {},
   "source": [
    "# Генерация файла "
   ]
  },
  {
   "cell_type": "code",
   "execution_count": 136,
   "metadata": {},
   "outputs": [],
   "source": [
    "predictedFinal = model.predict(X_test_scaled)"
   ]
  },
  {
   "cell_type": "code",
   "execution_count": 137,
   "metadata": {},
   "outputs": [],
   "source": [
    "with open('submission_tree02.csv', 'w') as out:\n",
    "    out.write('PassengerId,Survived\\n')\n",
    "    for passenger, y in zip(test['PassengerId'], predictedFinal):\n",
    "        out.write('%s,%s\\n' % (passenger, y))"
   ]
  },
  {
   "cell_type": "markdown",
   "metadata": {},
   "source": [
    "# Проверка качества модели, метрики модели"
   ]
  },
  {
   "cell_type": "code",
   "execution_count": 162,
   "metadata": {
    "collapsed": true
   },
   "outputs": [],
   "source": [
    "y_predicted = model.predict(X_train_scaled)\n",
    "y_predicted_proba = model.predict_proba(X_train_scaled)"
   ]
  },
  {
   "cell_type": "code",
   "execution_count": 163,
   "metadata": {},
   "outputs": [],
   "source": [
    "from sklearn import metrics\n",
    "\n",
    "def auc_prc(train, predicted, predicted_proba ): \n",
    "    accuracy = metrics.accuracy_score( y_train, y_predicted )\n",
    "    precision = metrics.precision_score( y_train, y_predicted ) \n",
    "    recall = metrics.recall_score( y_train, y_predicted ) \n",
    "    roc_auc = metrics.roc_auc_score( y_train, y_predicted_proba[:, 1] )\n",
    "    prc_auc = metrics.average_precision_score( y_train, y_predicted_proba[:, 1] )\n",
    "    \n",
    "    pr, re, thres = metrics.precision_recall_curve(train, predicted_proba)\n",
    "    fpr, tpr, thres2 = metrics.roc_curve( train, predicted_proba)\n",
    "    \n",
    "    \n",
    "    print('accuracy = ', accuracy, sep='\\t')\n",
    "    print('precision = ', precision, sep='\\t')\n",
    "    print('recall = ', recall, sep='\\t')\n",
    "    print('roc_auc = ', roc_auc, sep='\\t')\n",
    "    print('prc_auc = ', prc_auc, sep='\\t')       \n"
   ]
  },
  {
   "cell_type": "code",
   "execution_count": 164,
   "metadata": {},
   "outputs": [
    {
     "name": "stdout",
     "output_type": "stream",
     "text": [
      "accuracy = \t0.83164983165\n",
      "precision = \t0.815789473684\n",
      "recall = \t0.72514619883\n",
      "roc_auc = \t0.883879781421\n",
      "prc_auc = \t0.870680343657\n"
     ]
    }
   ],
   "source": [
    "auc_prc( y_train, y_predicted, y_predicted_proba[:, 1] )"
   ]
  },
  {
   "cell_type": "code",
   "execution_count": 165,
   "metadata": {},
   "outputs": [],
   "source": [
    "pr, re, thres = metrics.precision_recall_curve(y_train, y_predicted_proba[:, 1] )\n",
    "fpr, tpr, thres2 = metrics.roc_curve( y_train, y_predicted_proba[:, 1])"
   ]
  },
  {
   "cell_type": "code",
   "execution_count": 167,
   "metadata": {},
   "outputs": [
    {
     "data": {
      "text/plain": [
       "[<matplotlib.lines.Line2D at 0x7f483a904438>]"
      ]
     },
     "execution_count": 167,
     "metadata": {},
     "output_type": "execute_result"
    },
    {
     "data": {
      "image/png": "[encoded data removed]",
      "text/plain": [
       "<matplotlib.figure.Figure at 0x7f483790cba8>"
      ]
     },
     "metadata": {},
     "output_type": "display_data"
    }
   ],
   "source": [
    "plt.plot(pr, re)"
   ]
  },
  {
   "cell_type": "code",
   "execution_count": 166,
   "metadata": {},
   "outputs": [
    {
     "data": {
      "text/plain": [
       "[<matplotlib.lines.Line2D at 0x7f4837a77d30>]"
      ]
     },
     "execution_count": 166,
     "metadata": {},
     "output_type": "execute_result"
    },
    {
     "data": {
      "image/png": "[encoded data removed]",
      "text/plain": [
       "<matplotlib.figure.Figure at 0x7f483a8d45c0>"
      ]
     },
     "metadata": {},
     "output_type": "display_data"
    }
   ],
   "source": [
    "plt.plot(fpr, tpr)"
   ]
  },
  {
   "cell_type": "markdown",
   "metadata": {},
   "source": [
    "# Определение важности признаков"
   ]
  },
  {
   "cell_type": "code",
   "execution_count": 52,
   "metadata": {},
   "outputs": [],
   "source": [
    "clf = DecisionTreeClassifier(criterion='gini', max_depth=4, \n",
    "                             max_features=6, min_samples_leaf=4, \n",
    "                             min_samples_split=9)"
   ]
  },
  {
   "cell_type": "code",
   "execution_count": 53,
   "metadata": {},
   "outputs": [
    {
     "data": {
      "text/plain": [
       "DecisionTreeClassifier(class_weight=None, criterion='gini', max_depth=4,\n",
       "            max_features=6, max_leaf_nodes=None, min_impurity_split=1e-07,\n",
       "            min_samples_leaf=4, min_samples_split=9,\n",
       "            min_weight_fraction_leaf=0.0, presort=False, random_state=None,\n",
       "            splitter='best')"
      ]
     },
     "execution_count": 53,
     "metadata": {},
     "output_type": "execute_result"
    }
   ],
   "source": [
    "clf.fit(X_train_scaled, y_train)"
   ]
  },
  {
   "cell_type": "code",
   "execution_count": 102,
   "metadata": {},
   "outputs": [
    {
     "data": {
      "text/plain": [
       "([0.069539678600846741,\n",
       "  0.038788896313272869,\n",
       "  0.019305065051666771,\n",
       "  0.050084127171947573,\n",
       "  0.44242857449624401,\n",
       "  0.13336705974889193,\n",
       "  0.0,\n",
       "  0.0,\n",
       "  0.2158638311048455,\n",
       "  0.0,\n",
       "  0.0,\n",
       "  0.030622767512284748],\n",
       " ['Age',\n",
       "  'SibSp',\n",
       "  'Parch',\n",
       "  'Fare',\n",
       "  'Sex_female',\n",
       "  'Sex_male',\n",
       "  'Pclass_1',\n",
       "  'Pclass_2',\n",
       "  'Pclass_3',\n",
       "  'Embarked_C',\n",
       "  'Embarked_Q',\n",
       "  'Embarked_S'])"
      ]
     },
     "execution_count": 102,
     "metadata": {},
     "output_type": "execute_result"
    }
   ],
   "source": [
    "f_list = list(clf.feature_importances_)\n",
    "name_list = list(X_train.columns)\n",
    "f_list, name_list\n"
   ]
  },
  {
   "cell_type": "markdown",
   "metadata": {},
   "source": [
    "Sex_female , Pclass_3 - признаки наиболее важные из остальных"
   ]
  },
  {
   "cell_type": "markdown",
   "metadata": {},
   "source": [
    "# Визуализация"
   ]
  },
  {
   "cell_type": "code",
   "execution_count": 103,
   "metadata": {
    "collapsed": true
   },
   "outputs": [],
   "source": [
    "from sklearn.tree import export_graphviz"
   ]
  },
  {
   "cell_type": "code",
   "execution_count": 104,
   "metadata": {
    "collapsed": true
   },
   "outputs": [],
   "source": [
    "def get_tree_dot_view(clf, feature_names=None, class_names=None):\n",
    "    print(export_graphviz(clf, out_file=None, filled=True, feature_names=feature_names, class_names=class_names))"
   ]
  },
  {
   "cell_type": "code",
   "execution_count": 116,
   "metadata": {},
   "outputs": [
    {
     "name": "stdout",
     "output_type": "stream",
     "text": [
      "digraph Tree {\n",
      "node [shape=box, style=\"filled\", color=\"black\"] ;\n",
      "0 [label=\"Pclass_3 <= -0.1027\\ngini = 0.473\\nsamples = 891\\nvalue = [549, 342]\\nclass = Not Survived\", fillcolor=\"#e5813960\"] ;\n",
      "1 [label=\"Sex_female <= 0.3089\\ngini = 0.4934\\nsamples = 400\\nvalue = [177, 223]\\nclass = Survived\", fillcolor=\"#399de535\"] ;\n",
      "0 -> 1 [labeldistance=2.5, labelangle=45, headlabel=\"True\"] ;\n",
      "2 [label=\"Fare <= -0.1195\\ngini = 0.3938\\nsamples = 230\\nvalue = [168, 62]\\nclass = Not Survived\", fillcolor=\"#e58139a1\"] ;\n",
      "1 -> 2 ;\n",
      "3 [label=\"Parch <= 0.147\\ngini = 0.2262\\nsamples = 100\\nvalue = [87, 13]\\nclass = Not Survived\", fillcolor=\"#e58139d9\"] ;\n",
      "2 -> 3 ;\n",
      "4 [label=\"gini = 0.1604\\nsamples = 91\\nvalue = [83, 8]\\nclass = Not Survived\", fillcolor=\"#e58139e6\"] ;\n",
      "3 -> 4 ;\n",
      "5 [label=\"gini = 0.4938\\nsamples = 9\\nvalue = [4, 5]\\nclass = Survived\", fillcolor=\"#399de533\"] ;\n",
      "3 -> 5 ;\n",
      "6 [label=\"Age <= -0.9388\\ngini = 0.4697\\nsamples = 130\\nvalue = [81, 49]\\nclass = Not Survived\", fillcolor=\"#e5813965\"] ;\n",
      "2 -> 6 ;\n",
      "7 [label=\"gini = 0.0\\nsamples = 8\\nvalue = [0, 8]\\nclass = Survived\", fillcolor=\"#399de5ff\"] ;\n",
      "6 -> 7 ;\n",
      "8 [label=\"gini = 0.4463\\nsamples = 122\\nvalue = [81, 41]\\nclass = Not Survived\", fillcolor=\"#e581397e\"] ;\n",
      "6 -> 8 ;\n",
      "9 [label=\"Age <= -1.9392\\ngini = 0.1003\\nsamples = 170\\nvalue = [9, 161]\\nclass = Survived\", fillcolor=\"#399de5f1\"] ;\n",
      "1 -> 9 ;\n",
      "10 [label=\"gini = 0.32\\nsamples = 5\\nvalue = [1, 4]\\nclass = Survived\", fillcolor=\"#399de5bf\"] ;\n",
      "9 -> 10 ;\n",
      "11 [label=\"Fare <= -0.0674\\ngini = 0.0923\\nsamples = 165\\nvalue = [8, 157]\\nclass = Survived\", fillcolor=\"#399de5f2\"] ;\n",
      "9 -> 11 ;\n",
      "12 [label=\"gini = 0.1847\\nsamples = 68\\nvalue = [7, 61]\\nclass = Survived\", fillcolor=\"#399de5e2\"] ;\n",
      "11 -> 12 ;\n",
      "13 [label=\"gini = 0.0204\\nsamples = 97\\nvalue = [1, 96]\\nclass = Survived\", fillcolor=\"#399de5fc\"] ;\n",
      "11 -> 13 ;\n",
      "14 [label=\"Sex_male <= -0.3089\\ngini = 0.3672\\nsamples = 491\\nvalue = [372, 119]\\nclass = Not Survived\", fillcolor=\"#e58139ad\"] ;\n",
      "0 -> 14 [labeldistance=2.5, labelangle=-45, headlabel=\"False\"] ;\n",
      "15 [label=\"Age <= 0.6773\\ngini = 0.5\\nsamples = 144\\nvalue = [72, 72]\\nclass = Not Survived\", fillcolor=\"#e5813900\"] ;\n",
      "14 -> 15 ;\n",
      "16 [label=\"Embarked_S <= -0.4977\\ngini = 0.4971\\nsamples = 132\\nvalue = [61, 71]\\nclass = Survived\", fillcolor=\"#399de524\"] ;\n",
      "15 -> 16 ;\n",
      "17 [label=\"gini = 0.4012\\nsamples = 54\\nvalue = [15, 39]\\nclass = Survived\", fillcolor=\"#399de59d\"] ;\n",
      "16 -> 17 ;\n",
      "18 [label=\"gini = 0.4839\\nsamples = 78\\nvalue = [46, 32]\\nclass = Not Survived\", fillcolor=\"#e581394e\"] ;\n",
      "16 -> 18 ;\n",
      "19 [label=\"Parch <= 0.147\\ngini = 0.1528\\nsamples = 12\\nvalue = [11, 1]\\nclass = Not Survived\", fillcolor=\"#e58139e8\"] ;\n",
      "15 -> 19 ;\n",
      "20 [label=\"gini = 0.375\\nsamples = 4\\nvalue = [3, 1]\\nclass = Not Survived\", fillcolor=\"#e58139aa\"] ;\n",
      "19 -> 20 ;\n",
      "21 [label=\"gini = 0.0\\nsamples = 8\\nvalue = [8, 0]\\nclass = Not Survived\", fillcolor=\"#e58139ff\"] ;\n",
      "19 -> 21 ;\n",
      "22 [label=\"Age <= -1.2851\\ngini = 0.2342\\nsamples = 347\\nvalue = [300, 47]\\nclass = Not Survived\", fillcolor=\"#e58139d7\"] ;\n",
      "14 -> 22 ;\n",
      "23 [label=\"SibSp <= 1.3401\\ngini = 0.4608\\nsamples = 25\\nvalue = [16, 9]\\nclass = Not Survived\", fillcolor=\"#e5813970\"] ;\n",
      "22 -> 23 ;\n",
      "24 [label=\"gini = 0.1975\\nsamples = 9\\nvalue = [1, 8]\\nclass = Survived\", fillcolor=\"#399de5df\"] ;\n",
      "23 -> 24 ;\n",
      "25 [label=\"gini = 0.1172\\nsamples = 16\\nvalue = [15, 1]\\nclass = Not Survived\", fillcolor=\"#e58139ee\"] ;\n",
      "23 -> 25 ;\n",
      "26 [label=\"Fare <= 0.3925\\ngini = 0.2082\\nsamples = 322\\nvalue = [284, 38]\\nclass = Not Survived\", fillcolor=\"#e58139dd\"] ;\n",
      "22 -> 26 ;\n",
      "27 [label=\"gini = 0.1897\\nsamples = 311\\nvalue = [278, 33]\\nclass = Not Survived\", fillcolor=\"#e58139e1\"] ;\n",
      "26 -> 27 ;\n",
      "28 [label=\"gini = 0.4959\\nsamples = 11\\nvalue = [6, 5]\\nclass = Not Survived\", fillcolor=\"#e581392a\"] ;\n",
      "26 -> 28 ;\n",
      "}\n"
     ]
    }
   ],
   "source": [
    "get_tree_dot_view( clf, feature_names=list(X_train.columns), class_names=['Not Survived','Survived'] )"
   ]
  },
  {
   "cell_type": "code",
   "execution_count": null,
   "metadata": {
    "collapsed": true
   },
   "outputs": [],
   "source": []
  }
 ],
 "metadata": {
  "kernelspec": {
   "display_name": "Python 3",
   "language": "python",
   "name": "python3"
  },
  "language_info": {
   "codemirror_mode": {
    "name": "ipython",
    "version": 3
   },
   "file_extension": ".py",
   "mimetype": "text/x-python",
   "name": "python",
   "nbconvert_exporter": "python",
   "pygments_lexer": "ipython3",
   "version": "3.6.1"
  }
 },
 "nbformat": 4,
 "nbformat_minor": 2
}
